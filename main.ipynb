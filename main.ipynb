{
 "cells": [
  {
   "cell_type": "code",
   "execution_count": 155,
   "metadata": {},
   "outputs": [],
   "source": [
    "import pandas as pd\n",
    "import numpy as np\n",
    "import matplotlib.pyplot as plt\n",
    "import pywordseg\n",
    "# coding: utf-8 \n",
    "#encoding=utf-8"
   ]
  },
  {
   "cell_type": "code",
   "execution_count": 156,
   "metadata": {},
   "outputs": [
    {
     "ename": "KeyboardInterrupt",
     "evalue": "",
     "output_type": "error",
     "traceback": [
      "\u001b[0;31m---------------------------------------------------------------------------\u001b[0m",
      "\u001b[0;31mKeyboardInterrupt\u001b[0m                         Traceback (most recent call last)",
      "Cell \u001b[0;32mIn [156], line 13\u001b[0m\n\u001b[1;32m      9\u001b[0m lines \u001b[39m=\u001b[39m np\u001b[39m.\u001b[39marray([[]])\n\u001b[1;32m     11\u001b[0m \u001b[39mfor\u001b[39;00m line \u001b[39min\u001b[39;00m \u001b[39mrange\u001b[39m(text\u001b[39m.\u001b[39mshape[\u001b[39m0\u001b[39m]):\n\u001b[1;32m     12\u001b[0m \u001b[39m# for line in range(10):\u001b[39;00m\n\u001b[0;32m---> 13\u001b[0m     words \u001b[39m=\u001b[39m seg\u001b[39m.\u001b[39;49mcut([text[line]])\n\u001b[1;32m     14\u001b[0m     lines \u001b[39m=\u001b[39m np\u001b[39m.\u001b[39mconcatenate([lines,words],axis\u001b[39m=\u001b[39m\u001b[39m1\u001b[39m)\n",
      "File \u001b[0;32m~/opt/miniconda3/lib/python3.9/site-packages/pywordseg/pywordseg.py:230\u001b[0m, in \u001b[0;36mWordseg.cut\u001b[0;34m(self, sents, merge_dict, force_dict)\u001b[0m\n\u001b[1;32m    228\u001b[0m \u001b[39mif\u001b[39;00m valid_sents \u001b[39m==\u001b[39m []:\n\u001b[1;32m    229\u001b[0m     \u001b[39mreturn\u001b[39;00m [[] \u001b[39mfor\u001b[39;00m _ \u001b[39min\u001b[39;00m empty_pos]\n\u001b[0;32m--> 230\u001b[0m ret \u001b[39m=\u001b[39m \u001b[39mself\u001b[39;49m\u001b[39m.\u001b[39;49mtest(valid_sents, unsort\u001b[39m=\u001b[39;49m\u001b[39mTrue\u001b[39;49;00m)\n\u001b[1;32m    231\u001b[0m new_ret \u001b[39m=\u001b[39m []\n\u001b[1;32m    232\u001b[0m \u001b[39mfor\u001b[39;00m sent \u001b[39min\u001b[39;00m ret:\n",
      "File \u001b[0;32m~/opt/miniconda3/lib/python3.9/site-packages/pywordseg/pywordseg.py:256\u001b[0m, in \u001b[0;36mWordseg.test\u001b[0;34m(self, sents, unsort)\u001b[0m\n\u001b[1;32m    254\u001b[0m embedded, seq_lens \u001b[39m=\u001b[39m \u001b[39mself\u001b[39m\u001b[39m.\u001b[39mutils\u001b[39m.\u001b[39melmo(sents)\n\u001b[1;32m    255\u001b[0m (embedded, seq_lens, sents), ind \u001b[39m=\u001b[39m sort_by([embedded, seq_lens, sents], piv\u001b[39m=\u001b[39m\u001b[39m1\u001b[39m)\n\u001b[0;32m--> 256\u001b[0m pred \u001b[39m=\u001b[39m \u001b[39mself\u001b[39;49m\u001b[39m.\u001b[39;49mforward(embedded, seq_lens)\n\u001b[1;32m    257\u001b[0m ans \u001b[39m=\u001b[39m torch\u001b[39m.\u001b[39margmax(pred, dim\u001b[39m=\u001b[39m\u001b[39m-\u001b[39m\u001b[39m1\u001b[39m)\u001b[39m.\u001b[39mcpu()\u001b[39m.\u001b[39mnumpy()[:, \u001b[39m1\u001b[39m:]\n\u001b[1;32m    258\u001b[0m new_sents \u001b[39m=\u001b[39m []\n",
      "File \u001b[0;32m~/opt/miniconda3/lib/python3.9/site-packages/pywordseg/pywordseg.py:214\u001b[0m, in \u001b[0;36mWordseg.forward\u001b[0;34m(self, input_seq, input_lengths, hidden)\u001b[0m\n\u001b[1;32m    212\u001b[0m embedded \u001b[39m=\u001b[39m torch\u001b[39m.\u001b[39mfrom_numpy(input_seq)\u001b[39m.\u001b[39mto(\u001b[39mself\u001b[39m\u001b[39m.\u001b[39mdevice)\n\u001b[1;32m    213\u001b[0m packed \u001b[39m=\u001b[39m torch\u001b[39m.\u001b[39mnn\u001b[39m.\u001b[39mutils\u001b[39m.\u001b[39mrnn\u001b[39m.\u001b[39mpack_padded_sequence(embedded, input_lengths, batch_first\u001b[39m=\u001b[39m\u001b[39mTrue\u001b[39;00m)\n\u001b[0;32m--> 214\u001b[0m outputs, hidden \u001b[39m=\u001b[39m \u001b[39mself\u001b[39;49m\u001b[39m.\u001b[39;49mgru(packed, hidden) \u001b[39m# output: (seq_len, batch, hidden*n_dir)\u001b[39;00m\n\u001b[1;32m    215\u001b[0m outputs, _ \u001b[39m=\u001b[39m torch\u001b[39m.\u001b[39mnn\u001b[39m.\u001b[39mutils\u001b[39m.\u001b[39mrnn\u001b[39m.\u001b[39mpad_packed_sequence(outputs, batch_first\u001b[39m=\u001b[39m\u001b[39mTrue\u001b[39;00m)\n\u001b[1;32m    216\u001b[0m pred_prob \u001b[39m=\u001b[39m \u001b[39mself\u001b[39m\u001b[39m.\u001b[39mfc1(outputs)\u001b[39m#nn.Softmax(dim=-1)(self.fc1(outputs))\u001b[39;00m\n",
      "File \u001b[0;32m~/opt/miniconda3/lib/python3.9/site-packages/torch/nn/modules/module.py:1190\u001b[0m, in \u001b[0;36mModule._call_impl\u001b[0;34m(self, *input, **kwargs)\u001b[0m\n\u001b[1;32m   1186\u001b[0m \u001b[39m# If we don't have any hooks, we want to skip the rest of the logic in\u001b[39;00m\n\u001b[1;32m   1187\u001b[0m \u001b[39m# this function, and just call forward.\u001b[39;00m\n\u001b[1;32m   1188\u001b[0m \u001b[39mif\u001b[39;00m \u001b[39mnot\u001b[39;00m (\u001b[39mself\u001b[39m\u001b[39m.\u001b[39m_backward_hooks \u001b[39mor\u001b[39;00m \u001b[39mself\u001b[39m\u001b[39m.\u001b[39m_forward_hooks \u001b[39mor\u001b[39;00m \u001b[39mself\u001b[39m\u001b[39m.\u001b[39m_forward_pre_hooks \u001b[39mor\u001b[39;00m _global_backward_hooks\n\u001b[1;32m   1189\u001b[0m         \u001b[39mor\u001b[39;00m _global_forward_hooks \u001b[39mor\u001b[39;00m _global_forward_pre_hooks):\n\u001b[0;32m-> 1190\u001b[0m     \u001b[39mreturn\u001b[39;00m forward_call(\u001b[39m*\u001b[39;49m\u001b[39minput\u001b[39;49m, \u001b[39m*\u001b[39;49m\u001b[39m*\u001b[39;49mkwargs)\n\u001b[1;32m   1191\u001b[0m \u001b[39m# Do not call functions when jit is used\u001b[39;00m\n\u001b[1;32m   1192\u001b[0m full_backward_hooks, non_full_backward_hooks \u001b[39m=\u001b[39m [], []\n",
      "File \u001b[0;32m~/opt/miniconda3/lib/python3.9/site-packages/torch/nn/modules/rnn.py:777\u001b[0m, in \u001b[0;36mLSTM.forward\u001b[0;34m(self, input, hx)\u001b[0m\n\u001b[1;32m    774\u001b[0m     result \u001b[39m=\u001b[39m _VF\u001b[39m.\u001b[39mlstm(\u001b[39minput\u001b[39m, hx, \u001b[39mself\u001b[39m\u001b[39m.\u001b[39m_flat_weights, \u001b[39mself\u001b[39m\u001b[39m.\u001b[39mbias, \u001b[39mself\u001b[39m\u001b[39m.\u001b[39mnum_layers,\n\u001b[1;32m    775\u001b[0m                       \u001b[39mself\u001b[39m\u001b[39m.\u001b[39mdropout, \u001b[39mself\u001b[39m\u001b[39m.\u001b[39mtraining, \u001b[39mself\u001b[39m\u001b[39m.\u001b[39mbidirectional, \u001b[39mself\u001b[39m\u001b[39m.\u001b[39mbatch_first)\n\u001b[1;32m    776\u001b[0m \u001b[39melse\u001b[39;00m:\n\u001b[0;32m--> 777\u001b[0m     result \u001b[39m=\u001b[39m _VF\u001b[39m.\u001b[39;49mlstm(\u001b[39minput\u001b[39;49m, batch_sizes, hx, \u001b[39mself\u001b[39;49m\u001b[39m.\u001b[39;49m_flat_weights, \u001b[39mself\u001b[39;49m\u001b[39m.\u001b[39;49mbias,\n\u001b[1;32m    778\u001b[0m                       \u001b[39mself\u001b[39;49m\u001b[39m.\u001b[39;49mnum_layers, \u001b[39mself\u001b[39;49m\u001b[39m.\u001b[39;49mdropout, \u001b[39mself\u001b[39;49m\u001b[39m.\u001b[39;49mtraining, \u001b[39mself\u001b[39;49m\u001b[39m.\u001b[39;49mbidirectional)\n\u001b[1;32m    779\u001b[0m output \u001b[39m=\u001b[39m result[\u001b[39m0\u001b[39m]\n\u001b[1;32m    780\u001b[0m hidden \u001b[39m=\u001b[39m result[\u001b[39m1\u001b[39m:]\n",
      "\u001b[0;31mKeyboardInterrupt\u001b[0m: "
     ]
    }
   ],
   "source": [
    "df = pd.read_csv(\"books.txt\", delimiter=\" \")\n",
    "df.dropna(inplace=True)\n",
    "text = df[\"text\"].to_numpy()\n",
    "\n",
    "seg = pywordseg.Wordseg(batch_size=64,mode=\"TW\")\n",
    "\n",
    "# seg.cut([\"於是神造了兩個大光\"])\n",
    "# seg.cut([\"起初神創造了天地。\"])\n",
    "lines = np.array([[]])\n",
    "\n",
    "for line in range(text.shape[0]):\n",
    "# for line in range(10):\n",
    "    words = seg.cut([text[line]])\n",
    "    lines = np.concatenate([lines,words],axis=1)"
   ]
  },
  {
   "cell_type": "code",
   "execution_count": null,
   "metadata": {},
   "outputs": [],
   "source": [
    "# np.set_printoptions(edgeitems=10)\n",
    "# print(lines.shape)\n",
    "unique_words = np.unique(lines)\n",
    "np.savetxt(\"unique.csv\", unique_words, delimiter=\",\",fmt=\"%s\")\n",
    "# print(unique_words)\n",
    "# unique_words.astype(\"uft-8\")\n",
    "# list(lines[0])[625148]\n",
    "# unique_words.decode('utf-8')\n",
    "# print(\"Mary has an {} and a {}\".format(*map(lambda b: b.decode('utf-8'),unique_words)))\n",
    "# type(unique_words[-1])\n",
    "# print(unique_words, )\n",
    "# lines[0]\n",
    "# unique_words"
   ]
  },
  {
   "cell_type": "code",
   "execution_count": null,
   "metadata": {},
   "outputs": [
    {
     "data": {
      "text/plain": [
       "(array([], dtype=int64),)"
      ]
     },
     "execution_count": 150,
     "metadata": {},
     "output_type": "execute_result"
    }
   ],
   "source": [
    "np.where(text[0]=='\\ue035')"
   ]
  },
  {
   "cell_type": "code",
   "execution_count": null,
   "metadata": {},
   "outputs": [],
   "source": []
  }
 ],
 "metadata": {
  "kernelspec": {
   "display_name": "base",
   "language": "python",
   "name": "python3"
  },
  "language_info": {
   "codemirror_mode": {
    "name": "ipython",
    "version": 3
   },
   "file_extension": ".py",
   "mimetype": "text/x-python",
   "name": "python",
   "nbconvert_exporter": "python",
   "pygments_lexer": "ipython3",
   "version": "3.9.13"
  },
  "orig_nbformat": 4,
  "vscode": {
   "interpreter": {
    "hash": "a37e949ccefc704c706d7721453e4aff2dae884e84364702b4c428ccc9fecf0e"
   }
  }
 },
 "nbformat": 4,
 "nbformat_minor": 2
}
